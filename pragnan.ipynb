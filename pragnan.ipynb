{
 "cells": [
  {
   "cell_type": "code",
   "execution_count": 2,
   "metadata": {},
   "outputs": [
    {
     "name": "stdout",
     "output_type": "stream",
     "text": [
      "chennamsetty pragnan babu, pragnanchennamsetty@gmail.com, python, Drug Discovery, @pragnan "
     ]
    }
   ],
   "source": [
    "pragnan_info=[\"chennamsetty pragnan babu,\", \"pragnanchennamsetty@gmail.com,\", \"python,\", \"Drug Discovery,\", \"@pragnan\"]\n",
    "\n",
    "              \n",
    "\n",
    "pragnan_id=['name', 'gmail', 'language', 'biostack', 'slackid']\n",
    "\n",
    "\n",
    "pragna_id=dict(zip(pragnan_id, pragnan_info))\n",
    "\n",
    "\n",
    "for q in pragna_id.values():\n",
    "    print(q,'',end='')"
   ]
  },
  {
   "cell_type": "code",
   "execution_count": null,
   "metadata": {},
   "outputs": [],
   "source": []
  }
 ],
 "metadata": {
  "kernelspec": {
   "display_name": "Python 3",
   "language": "python",
   "name": "python3"
  },
  "language_info": {
   "codemirror_mode": {
    "name": "ipython",
    "version": 3
   },
   "file_extension": ".py",
   "mimetype": "text/x-python",
   "name": "python",
   "nbconvert_exporter": "python",
   "pygments_lexer": "ipython3",
   "version": "3.8.3"
  }
 },
 "nbformat": 4,
 "nbformat_minor": 4
}
